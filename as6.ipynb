{
 "cells": [
  {
   "cell_type": "markdown",
   "metadata": {},
   "source": [
    "# Assignment 6. What your Shoes say about you?\n",
    "## What do Your Favorite Shoes Say About Your Personality?\n",
    "\n",
    "Can we predict other people’s personalities, just by taking a photo of their shoes? What about yourself, - Are you a go-getter, an attention-seeker, or a loyal friend? You can try this model on yourself to see if it predicts your personality correctly. Resources: This is an open-ended problem, and you may conduct your own research and find relevant papers or datasets. Here are some suggestions, but you don’t have to use these.\n",
    "This article explains how the type and shape of shoes are related to various personalities: https://www.rd.com/list/shoes-personality/Links to an external site."
   ]
  },
  {
   "cell_type": "markdown",
   "metadata": {},
   "source": [
    "## Import Library"
   ]
  },
  {
   "cell_type": "code",
   "execution_count": null,
   "metadata": {},
   "outputs": [],
   "source": [
    "import os\n",
    "import numpy as np\n",
    "import matplotlib.pyplot as plt\n",
    "from tensorflow.keras.preprocessing.image import ImageDataGenerator\n",
    "from sklearn.model_selection import train_test_split\n",
    "from tensorflow.keras.utils import to_categorical\n",
    "from tensorflow.keras.preprocessing.image import load_img, img_to_array\n"
   ]
  },
  {
   "cell_type": "markdown",
   "metadata": {},
   "source": [
    "# Import Dataset"
   ]
  },
  {
   "cell_type": "code",
   "execution_count": null,
   "metadata": {},
   "outputs": [],
   "source": [
    "dataset_path = \"ShoesDataset\"  # Replace with your extracted dataset folder\n",
    "image_size = (128, 128)  # Resize all images to this size\n",
    "categories = [\"Formal\", \"Sneakers\", \"Boots\", \"Slippers\"]  # Define your classes"
   ]
  },
  {
   "cell_type": "markdown",
   "metadata": {},
   "source": []
  }
 ],
 "metadata": {
  "kernelspec": {
   "display_name": "Python 3",
   "language": "python",
   "name": "python3"
  },
  "language_info": {
   "name": "python",
   "version": "3.12.1"
  }
 },
 "nbformat": 4,
 "nbformat_minor": 2
}
